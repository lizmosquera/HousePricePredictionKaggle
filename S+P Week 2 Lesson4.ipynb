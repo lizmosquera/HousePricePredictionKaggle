{
  "nbformat": 4,
  "nbformat_minor": 0,
  "metadata": {
    "colab": {
      "name": "Untitled4.ipynb",
      "provenance": [],
      "authorship_tag": "ABX9TyNzySve21rCFbGPyRhH3Z9T",
      "include_colab_link": true
    },
    "kernelspec": {
      "name": "python3",
      "display_name": "Python 3"
    }
  },
  "cells": [
    {
      "cell_type": "markdown",
      "metadata": {
        "id": "view-in-github",
        "colab_type": "text"
      },
      "source": [
        "<a href=\"https://colab.research.google.com/github/lizmosquera/HousePricePredictionKaggle/blob/master/S%2BP%20Week%202%20Lesson4.ipynb\" target=\"_parent\"><img src=\"https://colab.research.google.com/assets/colab-badge.svg\" alt=\"Open In Colab\"/></a>"
      ]
    },
    {
      "cell_type": "code",
      "metadata": {
        "id": "lOEaFqufQKgF",
        "colab_type": "code",
        "colab": {}
      },
      "source": [
        "import tensorflow as tf"
      ],
      "execution_count": 0,
      "outputs": []
    },
    {
      "cell_type": "code",
      "metadata": {
        "id": "UIjLxrBXQXW9",
        "colab_type": "code",
        "colab": {
          "base_uri": "https://localhost:8080/",
          "height": 119
        },
        "outputId": "4c027c42-7db9-4d89-fff0-7794710fc09c"
      },
      "source": [
        "dataset=tf.data.Dataset.range(10)\n",
        "dataset=dataset.window(5,shift=1,drop_remainder=True)\n",
        "for window_dataset in dataset:\n",
        "  for val in window_dataset:\n",
        "    print(val.numpy(),end=\"\")\n",
        "  print()"
      ],
      "execution_count": 7,
      "outputs": [
        {
          "output_type": "stream",
          "text": [
            "01234\n",
            "12345\n",
            "23456\n",
            "34567\n",
            "45678\n",
            "56789\n"
          ],
          "name": "stdout"
        }
      ]
    },
    {
      "cell_type": "code",
      "metadata": {
        "id": "QP9GdRE2QmmZ",
        "colab_type": "code",
        "colab": {
          "base_uri": "https://localhost:8080/",
          "height": 119
        },
        "outputId": "3e644627-4613-4f15-c455-cae7481f3b9f"
      },
      "source": [
        "dataset=tf.data.Dataset.range(10)\n",
        "dataset=dataset.window(5,shift=1,drop_remainder=True)\n",
        "dataset=dataset.flat_map(lambda window: window.batch(5))\n",
        "for window in dataset:\n",
        "  print(window.numpy())"
      ],
      "execution_count": 8,
      "outputs": [
        {
          "output_type": "stream",
          "text": [
            "[0 1 2 3 4]\n",
            "[1 2 3 4 5]\n",
            "[2 3 4 5 6]\n",
            "[3 4 5 6 7]\n",
            "[4 5 6 7 8]\n",
            "[5 6 7 8 9]\n"
          ],
          "name": "stdout"
        }
      ]
    },
    {
      "cell_type": "code",
      "metadata": {
        "id": "PHZkmym5SaMk",
        "colab_type": "code",
        "colab": {
          "base_uri": "https://localhost:8080/",
          "height": 119
        },
        "outputId": "b134cfbf-efd7-4fc8-acda-eb06075be70e"
      },
      "source": [
        "dataset=tf.data.Dataset.range(10)\n",
        "dataset=dataset.window(5,shift=1,drop_remainder=True)\n",
        "dataset=dataset.flat_map(lambda window: window.batch(5))\n",
        "dataset=dataset.map(lambda window: (window[:-1],window[-1:]))\n",
        "for x,y in dataset:\n",
        "  print(x.numpy(), y.numpy())"
      ],
      "execution_count": 13,
      "outputs": [
        {
          "output_type": "stream",
          "text": [
            "[0 1 2 3] [4]\n",
            "[1 2 3 4] [5]\n",
            "[2 3 4 5] [6]\n",
            "[3 4 5 6] [7]\n",
            "[4 5 6 7] [8]\n",
            "[5 6 7 8] [9]\n"
          ],
          "name": "stdout"
        }
      ]
    },
    {
      "cell_type": "code",
      "metadata": {
        "id": "K4A3j5i9TWes",
        "colab_type": "code",
        "colab": {
          "base_uri": "https://localhost:8080/",
          "height": 119
        },
        "outputId": "5b49f23e-7129-4e78-a65b-e8dc6ba185e3"
      },
      "source": [
        "dataset=tf.data.Dataset.range(10)\n",
        "dataset=dataset.window(5,shift=1,drop_remainder=True)\n",
        "dataset=dataset.flat_map(lambda window: window.batch(5))\n",
        "dataset=dataset.map(lambda window: (window[:-1],window[-1:]))\n",
        "dataset=dataset.shuffle(buffer_size=10) #10 data what we have\n",
        "for x,y in dataset:\n",
        "  print(x.numpy(), y.numpy())"
      ],
      "execution_count": 15,
      "outputs": [
        {
          "output_type": "stream",
          "text": [
            "[4 5 6 7] [8]\n",
            "[3 4 5 6] [7]\n",
            "[5 6 7 8] [9]\n",
            "[0 1 2 3] [4]\n",
            "[1 2 3 4] [5]\n",
            "[2 3 4 5] [6]\n"
          ],
          "name": "stdout"
        }
      ]
    },
    {
      "cell_type": "code",
      "metadata": {
        "id": "20kbjya1TtkQ",
        "colab_type": "code",
        "colab": {
          "base_uri": "https://localhost:8080/",
          "height": 221
        },
        "outputId": "a4a319ec-61b0-49e0-dcc7-3a6344f6edeb"
      },
      "source": [
        "dataset=tf.data.Dataset.range(10)\n",
        "dataset=dataset.window(5,shift=1,drop_remainder=True)\n",
        "dataset=dataset.flat_map(lambda window: window.batch(5))\n",
        "dataset=dataset.map(lambda window: (window[:-1],window[-1:]))\n",
        "dataset=dataset.shuffle(buffer_size=10) #10 data what we have\n",
        "dataset=dataset.batch(2).prefetch(1)#size parameter =2 corresponde Yb\n",
        "for x,y in dataset:\n",
        "  print(\"x=\",x.numpy())\n",
        "  print(\"y=\",y.numpy())"
      ],
      "execution_count": 16,
      "outputs": [
        {
          "output_type": "stream",
          "text": [
            "x= [[3 4 5 6]\n",
            " [5 6 7 8]]\n",
            "y= [[7]\n",
            " [9]]\n",
            "x= [[0 1 2 3]\n",
            " [2 3 4 5]]\n",
            "y= [[4]\n",
            " [6]]\n",
            "x= [[4 5 6 7]\n",
            " [1 2 3 4]]\n",
            "y= [[8]\n",
            " [5]]\n"
          ],
          "name": "stdout"
        }
      ]
    },
    {
      "cell_type": "code",
      "metadata": {
        "id": "tMBMQGshZx2e",
        "colab_type": "code",
        "colab": {}
      },
      "source": [
        "def windowed_dataset(series,window_size,batch_size,suffle_buffer):\n",
        "  dataset=tf.data.Dataset.from_tensor_slices(series) #create a dataset\n",
        "  dataset=dataset.window(window_size+1,shift=1,drop_remainder=True)#to slice the data up into the appropriate windows\n",
        "  dataset=dataset.flat_map(lambda window: window.batch(window_size+1))#flatten the data out flatened into chunksin the suze of our window_size+1\n",
        "  dataset=dataset.shuffle(shuffle_buffer).map(lambda window:(window[:-1],window[-1])) #shuflet it, choosing smaller number speeds\n",
        "  dataset=dataset.batch(batch_size).prefetch(1)#size parameter =2 corresponde Yb\n",
        "  return dataset"
      ],
      "execution_count": 0,
      "outputs": []
    },
    {
      "cell_type": "code",
      "metadata": {
        "id": "irnmi9Orca4Z",
        "colab_type": "code",
        "colab": {
          "base_uri": "https://localhost:8080/",
          "height": 231
        },
        "outputId": "0899c9c5-31ff-4783-cce0-6e3444309ff8"
      },
      "source": [
        "\n",
        "split_time=1000\n",
        "time_train=time[:split_time]\n",
        "x_train=series[:split_time]\n",
        "time_valid=time[split_time:]\n",
        "x_valid=series[split_time:]\n"
      ],
      "execution_count": 25,
      "outputs": [
        {
          "output_type": "error",
          "ename": "NameError",
          "evalue": "ignored",
          "traceback": [
            "\u001b[0;31m---------------------------------------------------------------------------\u001b[0m",
            "\u001b[0;31mNameError\u001b[0m                                 Traceback (most recent call last)",
            "\u001b[0;32m<ipython-input-25-f66f2efb50b6>\u001b[0m in \u001b[0;36m<module>\u001b[0;34m()\u001b[0m\n\u001b[1;32m      1\u001b[0m \u001b[0;34m\u001b[0m\u001b[0m\n\u001b[1;32m      2\u001b[0m \u001b[0msplit_time\u001b[0m\u001b[0;34m=\u001b[0m\u001b[0;36m1000\u001b[0m\u001b[0;34m\u001b[0m\u001b[0;34m\u001b[0m\u001b[0m\n\u001b[0;32m----> 3\u001b[0;31m \u001b[0mtime_train\u001b[0m\u001b[0;34m=\u001b[0m\u001b[0mtime\u001b[0m\u001b[0;34m[\u001b[0m\u001b[0;34m:\u001b[0m\u001b[0msplit_time\u001b[0m\u001b[0;34m]\u001b[0m\u001b[0;34m\u001b[0m\u001b[0;34m\u001b[0m\u001b[0m\n\u001b[0m\u001b[1;32m      4\u001b[0m \u001b[0mx_train\u001b[0m\u001b[0;34m=\u001b[0m\u001b[0mseries\u001b[0m\u001b[0;34m[\u001b[0m\u001b[0;34m:\u001b[0m\u001b[0msplit_time\u001b[0m\u001b[0;34m]\u001b[0m\u001b[0;34m\u001b[0m\u001b[0;34m\u001b[0m\u001b[0m\n\u001b[1;32m      5\u001b[0m \u001b[0mtime_valid\u001b[0m\u001b[0;34m=\u001b[0m\u001b[0mtime\u001b[0m\u001b[0;34m[\u001b[0m\u001b[0msplit_time\u001b[0m\u001b[0;34m:\u001b[0m\u001b[0;34m]\u001b[0m\u001b[0;34m\u001b[0m\u001b[0;34m\u001b[0m\u001b[0m\n",
            "\u001b[0;31mNameError\u001b[0m: name 'time' is not defined"
          ]
        }
      ]
    },
    {
      "cell_type": "code",
      "metadata": {
        "id": "DdlhlOZLdPAf",
        "colab_type": "code",
        "colab": {
          "base_uri": "https://localhost:8080/",
          "height": 231
        },
        "outputId": "df70fbd0-eda5-4ba7-f839-79ec1a3a5c58"
      },
      "source": [
        "#linnear regresion\n",
        "window_size=20\n",
        "batch_size=32\n",
        "shuffle_buffer_size=1000\n",
        "\n",
        "dataset=windowed_dataset(series,window_size,batch_size,shuffle_buffer_size)\n",
        "#10=tf.keras.models.Sequential([10])\n",
        "l0=tf.keras.layers.Dense(1,input_shape=[window_size])\n",
        "model=tf.keras.models.Sequential([l0])\n",
        "model.compile(loss=\"mse\",optimizer=tf.keras.optimizers.SGD(lr=1e-6,momentum=0.9))\n",
        "model.fit(dataset,epochs=100,verbose=0) #ignore epoch but epoch\n",
        "print(\"layer weights {}\".format(l0.get_weights()))\n"
      ],
      "execution_count": 26,
      "outputs": [
        {
          "output_type": "error",
          "ename": "NameError",
          "evalue": "ignored",
          "traceback": [
            "\u001b[0;31m---------------------------------------------------------------------------\u001b[0m",
            "\u001b[0;31mNameError\u001b[0m                                 Traceback (most recent call last)",
            "\u001b[0;32m<ipython-input-26-97ddb051133d>\u001b[0m in \u001b[0;36m<module>\u001b[0;34m()\u001b[0m\n\u001b[1;32m      3\u001b[0m \u001b[0mshuffle_buffer_size\u001b[0m\u001b[0;34m=\u001b[0m\u001b[0;36m1000\u001b[0m\u001b[0;34m\u001b[0m\u001b[0;34m\u001b[0m\u001b[0m\n\u001b[1;32m      4\u001b[0m \u001b[0;34m\u001b[0m\u001b[0m\n\u001b[0;32m----> 5\u001b[0;31m \u001b[0mdataset\u001b[0m\u001b[0;34m=\u001b[0m\u001b[0mwindowed_dataset\u001b[0m\u001b[0;34m(\u001b[0m\u001b[0mseries\u001b[0m\u001b[0;34m,\u001b[0m\u001b[0mwindow_size\u001b[0m\u001b[0;34m,\u001b[0m\u001b[0mbatch_size\u001b[0m\u001b[0;34m,\u001b[0m\u001b[0mshuffle_buffer_size\u001b[0m\u001b[0;34m)\u001b[0m\u001b[0;34m\u001b[0m\u001b[0;34m\u001b[0m\u001b[0m\n\u001b[0m\u001b[1;32m      6\u001b[0m \u001b[0;31m#10=tf.keras.models.Sequential([10])\u001b[0m\u001b[0;34m\u001b[0m\u001b[0;34m\u001b[0m\u001b[0;34m\u001b[0m\u001b[0m\n\u001b[1;32m      7\u001b[0m \u001b[0ml0\u001b[0m\u001b[0;34m=\u001b[0m\u001b[0mtf\u001b[0m\u001b[0;34m.\u001b[0m\u001b[0mkeras\u001b[0m\u001b[0;34m.\u001b[0m\u001b[0mlayers\u001b[0m\u001b[0;34m.\u001b[0m\u001b[0mDense\u001b[0m\u001b[0;34m(\u001b[0m\u001b[0;36m1\u001b[0m\u001b[0;34m,\u001b[0m\u001b[0minput_shape\u001b[0m\u001b[0;34m=\u001b[0m\u001b[0;34m[\u001b[0m\u001b[0mwindow_size\u001b[0m\u001b[0;34m]\u001b[0m\u001b[0;34m)\u001b[0m\u001b[0;34m\u001b[0m\u001b[0;34m\u001b[0m\u001b[0m\n",
            "\u001b[0;31mNameError\u001b[0m: name 'series' is not defined"
          ]
        }
      ]
    },
    {
      "cell_type": "code",
      "metadata": {
        "id": "jJPykqyRhCiH",
        "colab_type": "code",
        "colab": {}
      },
      "source": [
        "print(series([1:21])\n",
        "model.predict(seriees[1:21][np.newaxis])\n",
        "forecast=[]\n",
        "for time in range(len(series)-window_size):\n",
        "  forecast.append(model.predict(series[time:time+window_size][np.newaxis]))\n",
        "forecast=forecast[split_time-window_size:]\n",
        "results=np.array(frecast)[:,0,0]\n",
        "tf.keras.metrics.mean_absolute_error(x_valid,results).numpy()\n",
        "                                     \n"
      ],
      "execution_count": 0,
      "outputs": []
    },
    {
      "cell_type": "markdown",
      "metadata": {
        "id": "xf8cP9xijWEF",
        "colab_type": "text"
      },
      "source": [
        "S+P Week 2 Lesson 4"
      ]
    },
    {
      "cell_type": "code",
      "metadata": {
        "id": "2ckVBMH0jOpc",
        "colab_type": "code",
        "colab": {
          "base_uri": "https://localhost:8080/",
          "height": 51
        },
        "outputId": "2bd7cd3f-708e-443c-adee-ae4ea060bf92"
      },
      "source": [
        "!pip install tf_nightly-2.0-preview"
      ],
      "execution_count": 28,
      "outputs": [
        {
          "output_type": "stream",
          "text": [
            "\u001b[31mERROR: Could not find a version that satisfies the requirement tf_nightly-2.0-preview (from versions: none)\u001b[0m\n",
            "\u001b[31mERROR: No matching distribution found for tf_nightly-2.0-preview\u001b[0m\n"
          ],
          "name": "stdout"
        }
      ]
    },
    {
      "cell_type": "code",
      "metadata": {
        "id": "GcKXICpajwvg",
        "colab_type": "code",
        "colab": {
          "base_uri": "https://localhost:8080/",
          "height": 34
        },
        "outputId": "eea934f7-e231-4692-a4b4-9a0790b9dd83"
      },
      "source": [
        "import tensorflow as tf\n",
        "import numpy as np\n",
        "import matplotlib.pyplot as plt\n",
        "print (tf.__version__)"
      ],
      "execution_count": 29,
      "outputs": [
        {
          "output_type": "stream",
          "text": [
            "2.2.0-rc3\n"
          ],
          "name": "stdout"
        }
      ]
    },
    {
      "cell_type": "code",
      "metadata": {
        "id": "6alc9pJHjxBB",
        "colab_type": "code",
        "colab": {}
      },
      "source": [
        "def plot_series(time,series,format=\"-\",start=0,end=None):\n",
        "  plt.plot(time[start:end],series[start:end],format)\n",
        "  plt.xlabel(\"Time\")\n",
        "  plt.ylabel(\"Value\")\n",
        "  plt.grid(True)\n",
        "\n",
        "def trend (time,slope=0);\n",
        "  return slope*time\n",
        "\n",
        "def seasonal_pattern(season_time):\n",
        "  \"\"Just an argitraty pattern, you can chnge it if you wish\"\"\n",
        "  return np.where(season_time <0.4,np.cos(season_time*2*np.pi),1/np.exp(3*season_time))\n",
        "\n",
        "def seasonality (time, period, amplitude=1,phase=0):\n",
        "  \"\"\"Repeats the same pattern at each period\"\"\"\n",
        "  season_time=((time+phase)%period)/period\n",
        "  return amplitude*seasonal_pattern(season_time)\n",
        "\n",
        "def noise(time,noise_level=1,seed=none):\n",
        "  "
      ],
      "execution_count": 0,
      "outputs": []
    },
    {
      "cell_type": "code",
      "metadata": {
        "id": "f-QDNXZ8jxGl",
        "colab_type": "code",
        "colab": {}
      },
      "source": [
        ""
      ],
      "execution_count": 0,
      "outputs": []
    },
    {
      "cell_type": "code",
      "metadata": {
        "id": "1ygPp8P4jxM1",
        "colab_type": "code",
        "colab": {}
      },
      "source": [
        ""
      ],
      "execution_count": 0,
      "outputs": []
    }
  ]
}